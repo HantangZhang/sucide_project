{
 "cells": [
  {
   "cell_type": "code",
   "execution_count": null,
   "metadata": {
    "collapsed": true
   },
   "outputs": [],
   "source": [
    "positive = X[new_y == 1]\n",
    "negative = X[new_y == 0]\n",
    "plt.scatter(positive[:, 0], positive[:, 1], c='blue', marker='o', label='Positive')\n",
    "plt.scatter(negative[:, 0], negative[:, 1], c='red', marker='x', label='Negative')\n",
    "plt.legend()\n",
    "plt.show()\n",
    "\n",
    "import seaborn as sns\n",
    "data2 = data.loc[:, 'GIMAP1Biom1552316_a_at':'EIF4A2Biom1555996_s_at']\n",
    "new_y = new_y.reshape(-1, 1)\n",
    "data2['label'] = new_y\n",
    "sns.pairplot(data2, hue='label')"
   ]
  }
 ],
 "metadata": {
  "kernelspec": {
   "display_name": "Python 3",
   "language": "python",
   "name": "python3"
  },
  "language_info": {
   "codemirror_mode": {
    "name": "ipython",
    "version": 2
   },
   "file_extension": ".py",
   "mimetype": "text/x-python",
   "name": "python",
   "nbconvert_exporter": "python",
   "pygments_lexer": "ipython2",
   "version": "2.7.6"
  }
 },
 "nbformat": 4,
 "nbformat_minor": 0
}