{
 "cells": [
  {
   "cell_type": "code",
   "execution_count": 15,
   "metadata": {
    "collapsed": true
   },
   "outputs": [],
   "source": [
    "import pandas as pd\n",
    "import numpy as np\n",
    "import matplotlib.pyplot as plt"
   ]
  },
  {
   "cell_type": "code",
   "execution_count": 16,
   "outputs": [],
   "source": [
    "# if using mac\n",
    "df = pd.read_excel('/Users/zhanghantang/PycharmProjects/sucide_project/BIOM40forUSC.xlsx')\n",
    "data = df[df['SI'].notnull()]\n",
    "y = data['SI']\n",
    "x = data.loc[:, 'GIMAP1Biom1552316_a_at':'CFIS']"
   ],
   "metadata": {
    "collapsed": false,
    "pycharm": {
     "name": "#%%\n"
    }
   }
  },
  {
   "cell_type": "code",
   "execution_count": 2,
   "outputs": [],
   "source": [
    "# windows\n",
    "df = pd.read_excel('E:\\PHD\\sucide_project\\BIOM40forUSC.xlsx')\n",
    "data = df[df['SI'].notnull()]\n",
    "y = data['SI']\n",
    "x = data.loc[:, 'GIMAP1Biom1552316_a_at':'CFIS']"
   ],
   "metadata": {
    "collapsed": false,
    "pycharm": {
     "name": "#%%\n"
    }
   }
  },
  {
   "cell_type": "code",
   "execution_count": 17,
   "outputs": [],
   "source": [
    "'''\n",
    "data processing issues：\n",
    "1. column 'CFI-S.PheneVisit' data type is string, i am not clear its internal meaning and how to convert to float data type\n",
    "2. after 1 Psychiatric, data has some missing value\n",
    "'''\n",
    "# column 'CFI-S.PheneVisit' data type is string, i am not clear its internal meaning and how to convert to float data type\n",
    "x = x.drop(labels='CFI-S.PheneVisit', axis=1)\n",
    "# drop these column directly\n",
    "x = data.loc[:, 'GIMAP1Biom1552316_a_at':'RAB3GAP2Biom240234_at']\n"
   ],
   "metadata": {
    "collapsed": false,
    "pycharm": {
     "name": "#%%\n"
    }
   }
  },
  {
   "cell_type": "code",
   "execution_count": 18,
   "outputs": [],
   "source": [
    "# divide into 2 categories\n",
    "\"\"\"\n",
    "dibide into 2 categories\n",
    "Category 1: High Risk\n",
    "\n",
    "Those with suicidal ideation (having thoughts of suicide) and those with a suicide plan (having a plan to carry out suicide) can be grouped into a high-risk category as they are actively considering and planning suicide.\n",
    "Category 2: Past Attempts/ Hospitalizations\n",
    "\n",
    "Those with a history of suicide attempt(s) and those with hospitalization(s) for suicidality can be grouped into a second category as they have a history of suicidal behavior but are not currently at an elevated risk of suicide.\n",
    "\n",
    "\"\"\"\n",
    "new_y = []\n",
    "for i in y:\n",
    "    if i == 0 or i ==1:\n",
    "        new_y.append(0)\n",
    "    else:\n",
    "        new_y.append(1)\n"
   ],
   "metadata": {
    "collapsed": false,
    "pycharm": {
     "name": "#%%\n"
    }
   }
  },
  {
   "cell_type": "code",
   "execution_count": 19,
   "outputs": [
    {
     "name": "stdout",
     "output_type": "stream",
     "text": [
      "505 249\n"
     ]
    }
   ],
   "source": [
    "# train test split\n",
    "from sklearn.model_selection import train_test_split\n",
    "from sklearn.preprocessing import StandardScaler\n",
    "X = StandardScaler().fit_transform(x)\n",
    "X_train, X_test, y_train, y_test = train_test_split(X, new_y, test_size=0.33, random_state=10)\n",
    "print(len(X_train), len(X_test))\n"
   ],
   "metadata": {
    "collapsed": false,
    "pycharm": {
     "name": "#%%\n"
    }
   }
  },
  {
   "cell_type": "code",
   "execution_count": 35,
   "outputs": [
    {
     "name": "stdout",
     "output_type": "stream",
     "text": [
      "Score with L1 penalty: accuracy:0.8112449799196787 precision:0.6666666666666666 recall:0.08163265306122448 f1:0.14545454545454545 roc_auc:0.5358163265306123\n",
      "Score with Elastic-Net penalty: accuracy:0.8152610441767069 precision:0.7142857142857143 recall:0.10204081632653061 f1:0.17857142857142858 roc_auc:0.5460204081632652\n",
      "Score with L2 penalty: accuracy:0.8192771084337349 precision:0.7 recall:0.14285714285714285 f1:0.23728813559322035 roc_auc:0.5639285714285714\n",
      "Score with L1 penalty: accuracy:0.8032128514056225 precision:0.0 recall:0.0 f1:0.0 roc_auc:0.5\n",
      "Score with Elastic-Net penalty: accuracy:0.8032128514056225 precision:0.0 recall:0.0 f1:0.0 roc_auc:0.5\n",
      "Score with L2 penalty: accuracy:0.8032128514056225 precision:0.5 recall:0.02040816326530612 f1:0.039215686274509796 roc_auc:0.5077040816326531\n",
      "Score with L1 penalty: accuracy:0.8032128514056225 precision:0.0 recall:0.0 f1:0.0 roc_auc:0.5\n",
      "Score with Elastic-Net penalty: accuracy:0.8032128514056225 precision:0.0 recall:0.0 f1:0.0 roc_auc:0.5\n",
      "Score with L2 penalty: accuracy:0.8032128514056225 precision:0.0 recall:0.0 f1:0.0 roc_auc:0.5\n"
     ]
    },
    {
     "name": "stderr",
     "output_type": "stream",
     "text": [
      "/Users/zhanghantang/opt/anaconda3/lib/python3.9/site-packages/sklearn/metrics/_classification.py:1248: UndefinedMetricWarning: Precision is ill-defined and being set to 0.0 due to no predicted samples. Use `zero_division` parameter to control this behavior.\n",
      "  _warn_prf(average, modifier, msg_start, len(result))\n",
      "/Users/zhanghantang/opt/anaconda3/lib/python3.9/site-packages/sklearn/metrics/_classification.py:1248: UndefinedMetricWarning: Precision is ill-defined and being set to 0.0 due to no predicted samples. Use `zero_division` parameter to control this behavior.\n",
      "  _warn_prf(average, modifier, msg_start, len(result))\n",
      "/Users/zhanghantang/opt/anaconda3/lib/python3.9/site-packages/sklearn/metrics/_classification.py:1248: UndefinedMetricWarning: Precision is ill-defined and being set to 0.0 due to no predicted samples. Use `zero_division` parameter to control this behavior.\n",
      "  _warn_prf(average, modifier, msg_start, len(result))\n",
      "/Users/zhanghantang/opt/anaconda3/lib/python3.9/site-packages/sklearn/metrics/_classification.py:1248: UndefinedMetricWarning: Precision is ill-defined and being set to 0.0 due to no predicted samples. Use `zero_division` parameter to control this behavior.\n",
      "  _warn_prf(average, modifier, msg_start, len(result))\n",
      "/Users/zhanghantang/opt/anaconda3/lib/python3.9/site-packages/sklearn/metrics/_classification.py:1248: UndefinedMetricWarning: Precision is ill-defined and being set to 0.0 due to no predicted samples. Use `zero_division` parameter to control this behavior.\n",
      "  _warn_prf(average, modifier, msg_start, len(result))\n"
     ]
    }
   ],
   "source": [
    "#　使用未进行参数调整的logistic regression , svm, random forest, xgboost\n",
    "from sklearn.linear_model import LogisticRegression as LR\n",
    "import matplotlib.pyplot as plt\n",
    "from sklearn.metrics import accuracy_score, precision_score, recall_score, f1_score, roc_auc_score\n",
    "\n",
    "X = StandardScaler().fit_transform(x)\n",
    "\n",
    "l1_ratio = 0.5\n",
    "C_list = [1, 0.1, 0.01]\n",
    "for C in C_list:\n",
    "    clf_l1_LR = LR(C=C, penalty=\"l1\", tol=0.01, solver=\"saga\")\n",
    "    clf_l2_LR = LR(C=C, penalty=\"l2\", tol=0.01, solver=\"saga\")\n",
    "    clf_en_LR = LR(\n",
    "        C=C, penalty=\"elasticnet\", solver=\"saga\", l1_ratio=l1_ratio, tol=0.01\n",
    "    )\n",
    "    clf_l1_LR.fit(X_train, y_train)\n",
    "    clf_l2_LR.fit(X_train, y_train)\n",
    "    clf_en_LR.fit(X_train, y_train)\n",
    "    y_pred_l1 = clf_l1_LR.predict(X_test)\n",
    "    y_pred_l2 = clf_l2_LR.predict(X_test)\n",
    "    y_pred_en = clf_en_LR.predict(X_test)\n",
    "\n",
    "    print(\"Score with L1 penalty: accuracy:{} precision:{} recall:{} f1:{} roc_auc:{}\".format(accuracy_score(y_test, y_pred_l1), precision_score(y_test, y_pred_l1), recall_score(y_test, y_pred_l1), f1_score(y_test, y_pred_l1), roc_auc_score(y_test, y_pred_l1)))\n",
    "    print(\"Score with Elastic-Net penalty: accuracy:{} precision:{} recall:{} f1:{} roc_auc:{}\".format(accuracy_score(y_test, y_pred_en), precision_score(y_test, y_pred_en), recall_score(y_test, y_pred_en), f1_score(y_test, y_pred_en), roc_auc_score(y_test, y_pred_en)))\n",
    "    print(\"Score with L2 penalty: accuracy:{} precision:{} recall:{} f1:{} roc_auc:{}\".format(accuracy_score(y_test, y_pred_l2), precision_score(y_test, y_pred_l2), recall_score(y_test, y_pred_l2), f1_score(y_test, y_pred_l2), roc_auc_score(y_test, y_pred_l2)))\n"
   ],
   "metadata": {
    "collapsed": false,
    "pycharm": {
     "name": "#%%\n"
    }
   }
  },
  {
   "cell_type": "code",
   "execution_count": 32,
   "outputs": [
    {
     "name": "stdout",
     "output_type": "stream",
     "text": [
      "Score with L1 penalty: accuracy:0.8112449799196787 precision:0.6666666666666666 recall:0.08163265306122448 f1:0.14545454545454545 roc_auc:0.5358163265306123\n",
      "Score with L1 penalty: accuracy:0.8112449799196787 precision:0.6666666666666666 recall:0.08163265306122448 f1:0.14545454545454545 roc_auc:0.5358163265306123\n"
     ]
    }
   ],
   "source": [
    "# 调整参数\n",
    "from sklearn.model_selection import GridSearchCV\n",
    "model = LR()\n",
    "# 不同的solver可能只支持不同的有限的penalty\n",
    "param_grid = {'penalty':['l1', 'l2', 'elasticnet'], 'C':[0.001, 0.01, 0.1, 1, 10, 100],\n",
    "              'solver':['liblinear', 'sag', 'sega']}\n",
    "grid_search = GridSearchCV(model, param_grid, cv=5)\n",
    "\n"
   ],
   "metadata": {
    "collapsed": false,
    "pycharm": {
     "name": "#%%\n"
    }
   }
  },
  {
   "cell_type": "code",
   "execution_count": 36,
   "outputs": [
    {
     "name": "stdout",
     "output_type": "stream",
     "text": [
      "754\n",
      "754\n"
     ]
    }
   ],
   "source": [
    "print(len(X))\n",
    "print(len(y))\n"
   ],
   "metadata": {
    "collapsed": false,
    "pycharm": {
     "name": "#%%\n"
    }
   }
  },
  {
   "cell_type": "code",
   "execution_count": 6,
   "outputs": [
    {
     "name": "stdout",
     "output_type": "stream",
     "text": [
      "Accuracy:0.7254641909814323\n"
     ]
    }
   ],
   "source": [
    "# evaluation metric\n",
    "from sklearn.metrics import accuracy_score\n",
    "y_pred = clf_l1_LR.predict(X)\n",
    "print('Accuracy:{}'.format(accuracy_score(y, y_pred)))"
   ],
   "metadata": {
    "collapsed": false,
    "pycharm": {
     "name": "#%%\n"
    }
   }
  }
 ],
 "metadata": {
  "kernelspec": {
   "display_name": "Python 3",
   "language": "python",
   "name": "python3"
  },
  "language_info": {
   "codemirror_mode": {
    "name": "ipython",
    "version": 2
   },
   "file_extension": ".py",
   "mimetype": "text/x-python",
   "name": "python",
   "nbconvert_exporter": "python",
   "pygments_lexer": "ipython2",
   "version": "2.7.6"
  }
 },
 "nbformat": 4,
 "nbformat_minor": 0
}